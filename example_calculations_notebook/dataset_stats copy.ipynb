{
 "cells": [
  {
   "cell_type": "markdown",
   "metadata": {},
   "source": [
    "# Dataset stats, checking"
   ]
  },
  {
   "cell_type": "code",
   "execution_count": 1,
   "metadata": {},
   "outputs": [],
   "source": [
    "import numpy as np\n",
    "from helper_methods import *\n",
    "from itertools import chain\n",
    "\n",
    "import networkx as nx\n",
    "\n",
    "import pickle\n",
    "import torch\n",
    "from torch import nn\n",
    "from torch.nn import Module, Parameter\n",
    "import torch.nn.functional as F"
   ]
  },
  {
   "cell_type": "code",
   "execution_count": 2,
   "metadata": {},
   "outputs": [],
   "source": [
    "def compute_stats(train, test):\n",
    "    ses_tr_len = [len(ses)+1 for ses in train[0]]\n",
    "    ses_te_len = [len(ses)+1 for ses in test[0]]\n",
    "    ses_len = ses_tr_len + ses_te_len\n",
    "    avg_len = sum(ses_len)/len(ses_len)\n",
    "    unique = set(chain.from_iterable(train[0] + test[0]))\n",
    "    return sum(ses_len), len(ses_tr_len), len(ses_te_len), len(unique), avg_len\n",
    "\n",
    "def print_stats(ses_len, ses_tr_len, ses_te_len, unique, avg_len):    \n",
    "    print(f\"|| DIGINETICA STATS || \\\n",
    "          \\n# of clicks: {ses_len} \\\n",
    "          \\n# of training sessions: {ses_tr_len} \\\n",
    "          \\n# of test sessions: {ses_te_len} \\\n",
    "          \\n# of items: {unique} \\\n",
    "          \\n# Average length: {avg_len}\")"
   ]
  },
  {
   "cell_type": "code",
   "execution_count": 4,
   "metadata": {},
   "outputs": [],
   "source": [
    "digi_train = pickle.load(open('../datasets/diginetica/train.txt', 'rb'))\n",
    "digi_test = pickle.load(open('../datasets/diginetica/test.txt', 'rb'))"
   ]
  },
  {
   "cell_type": "code",
   "execution_count": 3,
   "metadata": {},
   "outputs": [],
   "source": [
    "def intersecting_sets(sets):\n",
    "    G = nx.Graph()\n",
    "    # Nodes of the graph should be hashable\n",
    "    sets_1 = map(frozenset, sets)\n",
    "    for to_node in sets_1:\n",
    "        sets_2 = map(frozenset, sets)\n",
    "        for from_node in sets_2:\n",
    "            # off-course you don't want a self loop\n",
    "            # and only interested in intersecting nodes \n",
    "            if to_node != from_node and to_node & from_node:\n",
    "                G.add_edge(to_node, from_node)\n",
    "    # and remember to convert the frozen sets to sets\n",
    "    return [map(set, lst) for lst in nx.connected_components(G)], G"
   ]
  },
  {
   "cell_type": "code",
   "execution_count": 5,
   "metadata": {},
   "outputs": [],
   "source": [
    "all_yoo = yoochoose1_64_train[0] + yoochoose1_64_test[0]\n",
    "all_yoo = list(map(set,all_yoo))"
   ]
  },
  {
   "cell_type": "code",
   "execution_count": 7,
   "metadata": {},
   "outputs": [],
   "source": [
    "_, G = intersecting_sets(all_yoo)"
   ]
  },
  {
   "cell_type": "code",
   "execution_count": 89,
   "metadata": {},
   "outputs": [
    {
     "name": "stdout",
     "output_type": "stream",
     "text": [
      "|| DIGINETICA STATS ||           \n",
      "# of clicks: 3466487           \n",
      "# of training sessions: 612858           \n",
      "# of test sessions: 51751           \n",
      "# of items: 39028           \n",
      "# Average length: 5.215829156692131\n"
     ]
    }
   ],
   "source": [
    "print_stats(*compute_stats(digi_train,digi_test))"
   ]
  },
  {
   "cell_type": "code",
   "execution_count": 4,
   "metadata": {},
   "outputs": [],
   "source": [
    "yoochoose1_64_train = pickle.load(open('../datasets/yoochoose1_64/train.txt', 'rb'))\n",
    "yoochoose1_64_test = pickle.load(open('../datasets/yoochoose1_64/test.txt', 'rb'))"
   ]
  },
  {
   "cell_type": "code",
   "execution_count": 90,
   "metadata": {},
   "outputs": [
    {
     "name": "stdout",
     "output_type": "stream",
     "text": [
      "|| DIGINETICA STATS ||           \n",
      "# of clicks: 2621822           \n",
      "# of training sessions: 369859           \n",
      "# of test sessions: 55898           \n",
      "# of items: 16766           \n",
      "# Average length: 6.158024412986751\n"
     ]
    }
   ],
   "source": [
    "    print_stats(*compute_stats(yoochoose1_64_train, yoochoose1_64_test))"
   ]
  },
  {
   "cell_type": "code",
   "execution_count": 71,
   "metadata": {},
   "outputs": [],
   "source": [
    "yoochoose1_4_train = pickle.load(open('../datasets/yoochoose1_4/train.txt', 'rb'))\n",
    "yoochoose1_4_test = pickle.load(open('../datasets/yoochoose1_4/test.txt', 'rb'))"
   ]
  },
  {
   "cell_type": "code",
   "execution_count": 91,
   "metadata": {},
   "outputs": [
    {
     "name": "stdout",
     "output_type": "stream",
     "text": [
      "|| DIGINETICA STATS ||           \n",
      "# of clicks: 34097026           \n",
      "# of training sessions: 5917745           \n",
      "# of test sessions: 55898           \n",
      "# of items: 29618           \n",
      "# Average length: 5.7079115708789425\n"
     ]
    }
   ],
   "source": [
    "print_stats(*compute_stats(yoochoose1_4_train, yoochoose1_4_test))"
   ]
  },
  {
   "cell_type": "code",
   "execution_count": null,
   "metadata": {},
   "outputs": [],
   "source": []
  }
 ],
 "metadata": {
  "interpreter": {
   "hash": "ff3ae125f316bab1b1f934d570bf2c4ce9fe4e99415d184d18a8916603afd7f6"
  },
  "kernelspec": {
   "display_name": "BiksUp",
   "language": "python",
   "name": "python3"
  },
  "language_info": {
   "codemirror_mode": {
    "name": "ipython",
    "version": 3
   },
   "file_extension": ".py",
   "mimetype": "text/x-python",
   "name": "python",
   "nbconvert_exporter": "python",
   "pygments_lexer": "ipython3",
   "version": "3.8.8"
  }
 },
 "nbformat": 4,
 "nbformat_minor": 4
}
