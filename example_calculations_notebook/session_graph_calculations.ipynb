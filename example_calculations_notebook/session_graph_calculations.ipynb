{
 "cells": [
  {
   "cell_type": "code",
   "execution_count": 1,
   "id": "3ff925eb",
   "metadata": {},
   "outputs": [],
   "source": [
    "import numpy as np\n",
    "from helper_methods import *\n",
    "\n",
    "import torch\n",
    "from torch import nn\n",
    "from torch.nn import Module, Parameter\n",
    "import torch.nn.functional as F\n"
   ]
  },
  {
   "cell_type": "code",
   "execution_count": 2,
   "id": "5b204602",
   "metadata": {},
   "outputs": [
    {
     "name": "stdout",
     "output_type": "stream",
     "text": [
      "(4, 8)\n"
     ]
    }
   ],
   "source": [
    "A_s = np.array([[0, 1, 0, 0, 0, 0, 0, 0],\n",
    "                [0, 0, 0.5, 0.5, 0.5, 0, 0.5, 0],\n",
    "                [0, 1, 0, 0, 0, 1, 0, 0],\n",
    "                [0, 0, 0, 0, 0, 1, 0, 0]], dtype=np.float64)\n",
    "\n",
    "print(A_s.shape)"
   ]
  },
  {
   "cell_type": "code",
   "execution_count": 3,
   "id": "6182bf6f",
   "metadata": {},
   "outputs": [],
   "source": [
    "\n",
    "W_z = get_initial_weight(A_s)\n",
    "W_r = get_initial_weight(A_s)\n",
    "W_o = np.random.rand()\n",
    "U_z = get_initial_weight(A_s)\n",
    "U_r = get_initial_weight(A_s)\n",
    "U_o = np.random.rand()"
   ]
  },
  {
   "cell_type": "code",
   "execution_count": 4,
   "id": "3a4ba4d1",
   "metadata": {},
   "outputs": [
    {
     "name": "stdout",
     "output_type": "stream",
     "text": [
      "[[0.79014953 0.20140947 0.30774749 0.9367496  0.8634292  0.80524586\n",
      "  0.46889953 0.69859226]\n",
      " [0.04495939 0.07704207 0.34636242 0.13558391 0.44875879 0.35430877\n",
      "  0.68643949 0.58172166]\n",
      " [0.21323418 0.63166635 0.78133131 0.97171442 0.91557864 0.01890567\n",
      "  0.37423972 0.13062085]\n",
      " [0.09340643 0.17404221 0.95878914 0.0029192  0.11298211 0.47056422\n",
      "  0.51584241 0.39677447]]\n"
     ]
    }
   ],
   "source": [
    "H = get_initial_weight(A_s)\n",
    "\n",
    "print(H)"
   ]
  },
  {
   "cell_type": "code",
   "execution_count": 5,
   "id": "7ee2c70c",
   "metadata": {},
   "outputs": [
    {
     "name": "stdout",
     "output_type": "stream",
     "text": [
      "[[1. 1. 1. 1. 1. 1. 1. 1.]\n",
      " [1. 1. 1. 1. 1. 1. 1. 1.]\n",
      " [1. 1. 1. 1. 1. 1. 1. 1.]\n",
      " [1. 1. 1. 1. 1. 1. 1. 1.]]\n"
     ]
    }
   ],
   "source": [
    "b = np.ones(A_s.shape)\n",
    "\n",
    "print(b)"
   ]
  },
  {
   "cell_type": "markdown",
   "id": "f9a6cfd9",
   "metadata": {},
   "source": [
    "$a_{s, i}^t=A_{s,i:}\\left [ v_{1}^{t-1}, \\dots , v_n^{t-1} \\right ]$"
   ]
  },
  {
   "cell_type": "code",
   "execution_count": 6,
   "id": "71fb271a",
   "metadata": {},
   "outputs": [
    {
     "name": "stdout",
     "output_type": "stream",
     "text": [
      "(4, 8)\n"
     ]
    }
   ],
   "source": [
    "a_s = np.zeros(A_s.shape)\n",
    "\n",
    "for i in range(len(A_s)):\n",
    "    a_s[i] = np.matmul(np.transpose(A_s[i]), H[i]) + b[i]\n",
    "    \n",
    "\n",
    "print(a_s.shape)"
   ]
  },
  {
   "cell_type": "code",
   "execution_count": 7,
   "id": "b3be6b82",
   "metadata": {},
   "outputs": [
    {
     "name": "stdout",
     "output_type": "stream",
     "text": [
      "[[0.52006431 0.74472711 0.68086588 0.75422975 0.54108794 0.57430019\n",
      "  0.53971416 0.61040884]\n",
      " [0.62916084 0.75469954 0.82293308 0.8211417  0.85374494 0.75700586\n",
      "  0.82614799 0.81573307]\n",
      " [0.53238098 0.83152569 0.58756334 0.5770706  0.73385152 0.87588891\n",
      "  0.50828674 0.78375006]\n",
      " [0.58592828 0.80311553 0.77106956 0.6643751  0.6805503  0.78776634\n",
      "  0.69235297 0.5895793 ]]\n"
     ]
    }
   ],
   "source": [
    "z_s = np.ones(A_s.shape)\n",
    "\n",
    "\n",
    "for i in range(len(a_s)):\n",
    "    z_s[i] = activation_function_on_vector(sigmoid, (W_z[i] * a_s[i]) + (U_z[i] * A_s[i]))\n",
    "\n",
    "print(z_s)"
   ]
  },
  {
   "cell_type": "code",
   "execution_count": 8,
   "id": "16656763",
   "metadata": {},
   "outputs": [
    {
     "name": "stdout",
     "output_type": "stream",
     "text": [
      "[[0.76147839 0.61838129 0.64643254 0.52588077 0.5642069  0.63386067\n",
      "  0.71065664 0.60043094]\n",
      " [0.8439171  0.74108967 0.83702022 0.70762391 0.84685634 0.84316218\n",
      "  0.74092596 0.58238254]\n",
      " [0.72303528 0.77589315 0.69057898 0.5833038  0.74349568 0.85823104\n",
      "  0.73952856 0.51326559]\n",
      " [0.72860648 0.51784542 0.81072467 0.59429167 0.74277466 0.66442447\n",
      "  0.51778211 0.78350547]]\n"
     ]
    }
   ],
   "source": [
    "r_s = np.ones(A_s.shape)\n",
    "\n",
    "for i in range(len(a_s)):\n",
    "    r_s[i] = activation_function_on_vector(sigmoid, (W_r[i] * a_s[i]) + (U_r[i] * A_s[i]))\n",
    "\n",
    "print(r_s)"
   ]
  },
  {
   "cell_type": "code",
   "execution_count": 43,
   "id": "430fcc0f-55e0-4543-8fdb-2729e517f129",
   "metadata": {},
   "outputs": [],
   "source": [
    "hidden_size = 8\n",
    "input_size = hidden_size * 2\n",
    "gate_size = 3 * hidden_size\n",
    "n_nodes = 4"
   ]
  },
  {
   "cell_type": "code",
   "execution_count": 45,
   "id": "4939ea1e-b8e0-41be-a37d-9948a2fcf63e",
   "metadata": {},
   "outputs": [],
   "source": [
    "embedding = nn.Embedding(n_nodes, hidden_size)"
   ]
  },
  {
   "cell_type": "code",
   "execution_count": 57,
   "id": "9fed6a33",
   "metadata": {},
   "outputs": [
    {
     "name": "stdout",
     "output_type": "stream",
     "text": [
      "torch.Size([24, 16])\n",
      "torch.Size([24, 8])\n",
      "torch.Size([24])\n",
      "torch.Size([24])\n",
      "torch.Size([8])\n",
      "torch.Size([8])\n",
      "Linear(in_features=8, out_features=8, bias=True)\n",
      "torch.float32\n",
      "torch.float32\n",
      "tensor([[ 0.0000e+00,  0.0000e+00,  0.0000e+00,  0.0000e+00,  0.0000e+00,\n",
      "         -2.1632e-01,  1.3370e+22,  6.6453e-07],\n",
      "        [ 9.6689e-01, -3.0732e-01,  1.6482e-01,  1.1635e+00,  7.5914e-01,\n",
      "         -6.5589e-01,  1.3370e+22,  8.5932e-01],\n",
      "        [-6.8738e-02,  1.7811e-01, -4.3482e-01,  1.1654e-01, -6.9302e-04,\n",
      "         -1.0054e-01,  1.3370e+22, -2.1253e-01],\n",
      "        [-6.8738e-02,  1.7811e-01, -4.3482e-01,  1.1654e-01, -6.9302e-04,\n",
      "         -1.0054e-01,  1.3370e+22, -2.1253e-01],\n",
      "        [-6.8738e-02,  1.7811e-01, -4.3482e-01,  1.1654e-01, -6.9302e-04,\n",
      "         -1.0054e-01,  1.3370e+22, -2.1253e-01],\n",
      "        [ 4.3075e-01,  2.3825e-01, -1.4423e-02,  4.3806e-01,  3.8228e-01,\n",
      "         -2.9145e-01,  1.3370e+22, -2.6368e-01],\n",
      "        [-6.8738e-02,  1.7811e-01, -4.3482e-01,  1.1654e-01, -6.9302e-04,\n",
      "         -1.0054e-01,  1.3370e+22, -2.1253e-01],\n",
      "        [ 0.0000e+00,  0.0000e+00,  0.0000e+00,  0.0000e+00,  0.0000e+00,\n",
      "         -2.1632e-01,  1.3370e+22,  6.6453e-07]], grad_fn=<AddBackward0>) torch.Size([8, 8])\n"
     ]
    },
    {
     "ename": "NameError",
     "evalue": "name 'inputs' is not defined",
     "output_type": "error",
     "traceback": [
      "\u001b[1;31m---------------------------------------------------------------------------\u001b[0m",
      "\u001b[1;31mNameError\u001b[0m                                 Traceback (most recent call last)",
      "\u001b[1;32mC:\\Users\\MADSKU~1\\AppData\\Local\\Temp/ipykernel_16788/68580213.py\u001b[0m in \u001b[0;36m<module>\u001b[1;34m\u001b[0m\n\u001b[0;32m     47\u001b[0m \u001b[0mtensor_A_s\u001b[0m\u001b[1;33m[\u001b[0m\u001b[1;33m:\u001b[0m\u001b[1;33m,\u001b[0m \u001b[0mtensor_A_s\u001b[0m\u001b[1;33m.\u001b[0m\u001b[0mshape\u001b[0m\u001b[1;33m[\u001b[0m\u001b[1;36m1\u001b[0m\u001b[1;33m]\u001b[0m\u001b[1;33m:\u001b[0m \u001b[1;36m2\u001b[0m \u001b[1;33m*\u001b[0m \u001b[0mtensor_A_s\u001b[0m\u001b[1;33m.\u001b[0m\u001b[0mshape\u001b[0m\u001b[1;33m[\u001b[0m\u001b[1;36m1\u001b[0m\u001b[1;33m]\u001b[0m\u001b[1;33m]\u001b[0m\u001b[1;33m\u001b[0m\u001b[1;33m\u001b[0m\u001b[0m\n\u001b[0;32m     48\u001b[0m \u001b[1;33m\u001b[0m\u001b[0m\n\u001b[1;32m---> 49\u001b[1;33m \u001b[0mgi\u001b[0m \u001b[1;33m=\u001b[0m \u001b[0mF\u001b[0m\u001b[1;33m.\u001b[0m\u001b[0mlinear\u001b[0m\u001b[1;33m(\u001b[0m\u001b[0minputs\u001b[0m\u001b[1;33m,\u001b[0m \u001b[0mw_ih\u001b[0m\u001b[1;33m,\u001b[0m \u001b[0mb_ih\u001b[0m\u001b[1;33m)\u001b[0m\u001b[1;33m\u001b[0m\u001b[1;33m\u001b[0m\u001b[0m\n\u001b[0m\u001b[0;32m     50\u001b[0m \u001b[0mgh\u001b[0m \u001b[1;33m=\u001b[0m \u001b[0mF\u001b[0m\u001b[1;33m.\u001b[0m\u001b[0mlinear\u001b[0m\u001b[1;33m(\u001b[0m\u001b[0mhidden\u001b[0m\u001b[1;33m,\u001b[0m \u001b[0mw_hh\u001b[0m\u001b[1;33m,\u001b[0m \u001b[0mb_hh\u001b[0m\u001b[1;33m)\u001b[0m\u001b[1;33m\u001b[0m\u001b[1;33m\u001b[0m\u001b[0m\n",
      "\u001b[1;31mNameError\u001b[0m: name 'inputs' is not defined"
     ]
    }
   ],
   "source": [
    "v_hidden = np.ones(A_s.shape)\n",
    "\n",
    "\n",
    "\n",
    "w_ih = Parameter(torch.Tensor(gate_size, input_size))\n",
    "w_hh = Parameter(torch.Tensor(gate_size, hidden_size))\n",
    "b_ih = Parameter(torch.Tensor(gate_size))\n",
    "b_hh = Parameter(torch.Tensor(gate_size))\n",
    "b_iah = Parameter(torch.Tensor(hidden_size))\n",
    "b_oah = Parameter(torch.Tensor(hidden_size))\n",
    "\n",
    "print(w_ih.shape)\n",
    "print(w_hh.shape)\n",
    "print(b_ih.shape)\n",
    "print(b_hh.shape)\n",
    "print(b_iah.shape)\n",
    "print(b_oah.shape)\n",
    "\n",
    "linear_edge_in = nn.Linear(hidden_size, hidden_size, bias=True)\n",
    "linear_edge_out = nn.Linear(hidden_size, hidden_size, bias=True)\n",
    "linear_edge_f = nn.Linear(hidden_size, hidden_size, bias=True)\n",
    "\n",
    "print(linear_edge_in)\n",
    "\n",
    "A_s = torch.tensor([[0, 1, 0, 0, 0, 0, 0, 0],\n",
    "                [0, 0, 0.5, 0.5, 0.5, 0, 0.5, 0],\n",
    "                [0, 1, 0, 0, 0, 1, 0, 0],\n",
    "                [0, 0, 0, 0, 0, 1, 0, 0]], dtype=torch.float32)\n",
    "\n",
    "\n",
    "\n",
    "#hidden = torch.tensor(np.array(np.transpose(H)))\n",
    "#hidden = torch.tensor(np.array(H))\n",
    "hidden = torch.randn(4, 8)\n",
    "nn.Embedding\n",
    "tensor_A_s = torch.transpose(A_s, 0, 1)\n",
    "#tensor_A_s = torch.randn(8,4)\n",
    "print(tensor_A_s.dtype)\n",
    "print(hidden.dtype)\n",
    "\n",
    "input_in = torch.matmul(tensor_A_s[:, :A_s.shape[1]], linear_edge_in(hidden)) + b_iah\n",
    "input_out = torch.matmul(tensor_A_s[tensor_A_s.shape[1]: 2 * tensor_A_s.shape[1]], linear_edge_out(hidden)) + b_oah\n",
    "\n",
    "print(input_in,input_in.shape)\n",
    "#for i in range(len(A_s)):\n",
    "#    v_hidden[i] = activation_function_on_vector(tahn, (W_o * ))\n",
    "tensor_A_s[:, tensor_A_s.shape[1]: 2 * tensor_A_s.shape[1]]\n",
    "\n",
    "gi = F.linear(inputs, w_ih, b_ih)\n",
    "gh = F.linear(hidden, w_hh, b_hh)"
   ]
  },
  {
   "cell_type": "code",
   "execution_count": null,
   "id": "0999790f-61dc-465d-9feb-1cf3a3ccc5b3",
   "metadata": {},
   "outputs": [],
   "source": []
  }
 ],
 "metadata": {
  "interpreter": {
   "hash": "05811a4c8edeb62e87c3e708461cae05c65dc4bb514779bc955273fc84b8bc5c"
  },
  "kernelspec": {
   "display_name": "BiksUpEnv",
   "language": "python",
   "name": "biksupenv"
  },
  "language_info": {
   "codemirror_mode": {
    "name": "ipython",
    "version": 3
   },
   "file_extension": ".py",
   "mimetype": "text/x-python",
   "name": "python",
   "nbconvert_exporter": "python",
   "pygments_lexer": "ipython3",
   "version": "3.8.12"
  }
 },
 "nbformat": 4,
 "nbformat_minor": 5
}
