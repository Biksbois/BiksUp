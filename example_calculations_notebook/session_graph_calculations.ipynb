{
 "cells": [
  {
   "cell_type": "code",
   "execution_count": 1,
   "id": "7619c33b",
   "metadata": {},
   "outputs": [],
   "source": [
    "import numpy as np\r\n",
    "from helper_methods import *\r\n"
   ]
  },
  {
   "cell_type": "code",
   "execution_count": 4,
   "id": "76134df2",
   "metadata": {},
   "outputs": [
    {
     "name": "stdout",
     "output_type": "stream",
     "text": [
      "(4, 8)\n"
     ]
    }
   ],
   "source": [
    "A_s = np.array([[0, 1, 0, 0, 0, 0, 0, 0],\r\n",
    "                [0, 0, 0.5, 0.5, 0.5, 0, 0.5, 0],\r\n",
    "                [0, 1, 0, 0, 0, 1, 0, 0],\r\n",
    "                [0, 0, 0, 0, 0, 1, 0, 0]], dtype=np.float64)\r\n",
    "\r\n",
    "print(A_s.shape)"
   ]
  },
  {
   "cell_type": "code",
   "execution_count": null,
   "id": "e276e378-3e36-47a1-9f20-b1db14b9bc71",
   "metadata": {},
   "outputs": [],
   "source": []
  },
  {
   "cell_type": "code",
   "execution_count": 14,
   "id": "7d5e77f5",
   "metadata": {},
   "outputs": [
    {
     "name": "stdout",
     "output_type": "stream",
     "text": [
      "0.9382719285099876\n"
     ]
    }
   ],
   "source": [
    "\n",
    "W_z = get_initial_weigA_htA_s()\r\n",
    "W_r = get_initial_weighA_st()\r\n",
    "W_o = np.random.rand()\r\n",
    "U_z = get_initial_weight()\r\n",
    "U_r = get_initial_weight()\r\n",
    "U_o = np.random.rand()"
   ]
  },
  {
   "cell_type": "code",
   "execution_count": 4,
   "id": "cf659ce9",
   "metadata": {},
   "outputs": [
    {
     "name": "stdout",
     "output_type": "stream",
     "text": [
      "[[0.72847483 0.43607576 0.12168063 0.1511067  0.34249914 0.69583378\n",
      "  0.07910992 0.6003884 ]\n",
      " [0.31333506 0.88393803 0.57965652 0.21431353 0.05018971 0.91331666\n",
      "  0.7081956  0.66675956]\n",
      " [0.82268667 0.5722959  0.38329165 0.47717144 0.11000532 0.18493964\n",
      "  0.10115763 0.19154491]\n",
      " [0.61834939 0.82228905 0.63699682 0.3883121  0.13545227 0.24913564\n",
      "  0.06415658 0.70852753]]\n"
     ]
    }
   ],
   "source": [
    "H = get_initial_weight()\r\n",
    "\r\n",
    "print(H)"
   ]
  },
  {
   "cell_type": "code",
   "execution_count": 5,
   "id": "b51452c9",
   "metadata": {},
   "outputs": [
    {
     "name": "stdout",
     "output_type": "stream",
     "text": [
      "[[1. 1. 1. 1. 1. 1. 1. 1.]\n",
      " [1. 1. 1. 1. 1. 1. 1. 1.]\n",
      " [1. 1. 1. 1. 1. 1. 1. 1.]\n",
      " [1. 1. 1. 1. 1. 1. 1. 1.]]\n"
     ]
    }
   ],
   "source": [
    "b = np.ones(A_s.shape)\r\n",
    "\r\n",
    "print(b)"
   ]
  },
  {
   "cell_type": "markdown",
   "id": "81e2412e",
   "metadata": {},
   "source": [
    "$a_{s, i}$"
   ]
  },
  {
   "cell_type": "code",
   "execution_count": 6,
   "id": "0ccfe4e5",
   "metadata": {},
   "outputs": [
    {
     "name": "stdout",
     "output_type": "stream",
     "text": [
      "(4, 8)\n"
     ]
    }
   ],
   "source": [
    "a_s = np.zeros(A_s.shape)\r\n",
    "\r\n",
    "for i in range(len(A_s)):\r\n",
    "    a_s[i] = np.matmul(np.transpose(A_s[i]), H[i]) + b[i]\r\n",
    "    \r\n",
    "\r\n",
    "print(a_s.shape)"
   ]
  },
  {
   "cell_type": "code",
   "execution_count": 8,
   "id": "e23b2980",
   "metadata": {},
   "outputs": [
    {
     "name": "stdout",
     "output_type": "stream",
     "text": [
      "[[0.72101836 0.88361372 0.61661013 0.76404502 0.58243191 0.79675142\n",
      "  0.78801125 0.58148481]\n",
      " [0.83354906 0.6635125  0.82362479 0.64763509 0.68710433 0.70914534\n",
      "  0.85124532 0.72907548]\n",
      " [0.6834866  0.77443437 0.81497029 0.68682492 0.57684408 0.69863667\n",
      "  0.76166931 0.66302222]\n",
      " [0.6901783  0.70656119 0.60302404 0.70112155 0.66779731 0.65513454\n",
      "  0.56191464 0.56821594]]\n"
     ]
    }
   ],
   "source": [
    "z_s = np.ones(A_s.shape)\r\n",
    "\r\n",
    "\r\n",
    "for i in range(len(a_s)):\r\n",
    "    z_s[i] = activation_function_on_vector(sigmoid, (W_z[i] * a_s[i]) + (U_z[i] * A_s[i]))\r\n",
    "\r\n",
    "print(z_s)"
   ]
  },
  {
   "cell_type": "code",
   "execution_count": null,
   "id": "68fac849",
   "metadata": {},
   "outputs": [],
   "source": [
    "r_s = np.ones(A_s.shape)\r\n",
    "\r\n",
    "for i in range(len(a_s)):\r\n",
    "    r_s[i] = activation_function_on_vector(sigmoid, (W_r[i] * a_s[i]) + (U_r[i] * A_s[i]))\r\n",
    "\r\n",
    "print(r_s)"
   ]
  },
  {
   "cell_type": "code",
   "execution_count": 13,
   "id": "b6677f90",
   "metadata": {},
   "outputs": [
    {
     "name": "stdout",
     "output_type": "stream",
     "text": [
      "[[0.46440187 0.31216955]\n",
      " [0.74332004 0.25332069]\n",
      " [0.49806221 0.98138065]]\n",
      "[[0.46440187 0.31216955]\n",
      " [0.74332004 0.25332069]\n",
      " [0.49806221 0.98138065]]\n"
     ]
    }
   ],
   "source": [
    "v_hidden = np.ones(A_s.shape)\r\n",
    "\r\n",
    "for i in range(len(A_s)):\r\n",
    "    v_hidden[i] = activation_function_on_vector(tahn, W_o * )"
   ]
  }
 ],
 "metadata": {
  "interpreter": {
   "hash": "05811a4c8edeb62e87c3e708461cae05c65dc4bb514779bc955273fc84b8bc5c"
  },
  "kernelspec": {
   "display_name": "Python 3 (ipykernel)",
   "language": "python",
   "name": "python3"
  },
  "language_info": {
   "codemirror_mode": {
    "name": "ipython",
    "version": 3
   },
   "file_extension": ".py",
   "mimetype": "text/x-python",
   "name": "python",
   "nbconvert_exporter": "python",
   "pygments_lexer": "ipython3",
   "version": "3.8.12"
  }
 },
 "nbformat": 4,
 "nbformat_minor": 5
}
