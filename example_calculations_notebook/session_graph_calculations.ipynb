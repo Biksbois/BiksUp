{
 "cells": [
  {
   "cell_type": "code",
   "execution_count": 1,
   "id": "d05e1385-0844-4143-b78b-36a214ea4b6a",
   "metadata": {},
   "outputs": [],
   "source": [
    "import numpy as np\n",
    "from helper_methods import *"
   ]
  },
  {
   "cell_type": "code",
   "execution_count": 2,
   "id": "3c2143ff-d4a7-443a-8de0-c00d0aedcc82",
   "metadata": {},
   "outputs": [
    {
     "name": "stdout",
     "output_type": "stream",
     "text": [
      "4\n"
     ]
    }
   ],
   "source": [
    "A_s = np.array([[0, 1, 0, 0, 0, 0, 0, 0],\n",
    "                [0, 0, 0.5, 0.5, 0.5, 0, 0.5, 0],\n",
    "                [0, 1, 0, 0, 0, 1, 0, 0],\n",
    "                [0, 0, 0, 0, 0, 1, 0, 0]], dtype=np.float64)\n",
    "\n",
    "print(len(A_s))"
   ]
  },
  {
   "cell_type": "code",
   "execution_count": 14,
   "id": "123eb4b6-4265-48d4-a712-2e80ec739315",
   "metadata": {},
   "outputs": [
    {
     "name": "stdout",
     "output_type": "stream",
     "text": [
      "0.9382719285099876\n"
     ]
    }
   ],
   "source": [
    "def get_initial_weight():\n",
    "    return np.random.rand(A_s.shape[0], A_s.shape[1]) \n",
    "\n",
    "W_z = get_initial_weight()\n",
    "W_r = get_initial_weight()\n",
    "W_o = np.random.rand()\n",
    "U_z = get_initial_weight()\n",
    "U_r = get_initial_weight()\n",
    "U_o = np.random.rand()"
   ]
  },
  {
   "cell_type": "code",
   "execution_count": 4,
   "id": "de6deff7-5ffd-4af3-9fe3-36774eaf005b",
   "metadata": {},
   "outputs": [
    {
     "name": "stdout",
     "output_type": "stream",
     "text": [
      "[[0.72847483 0.43607576 0.12168063 0.1511067  0.34249914 0.69583378\n",
      "  0.07910992 0.6003884 ]\n",
      " [0.31333506 0.88393803 0.57965652 0.21431353 0.05018971 0.91331666\n",
      "  0.7081956  0.66675956]\n",
      " [0.82268667 0.5722959  0.38329165 0.47717144 0.11000532 0.18493964\n",
      "  0.10115763 0.19154491]\n",
      " [0.61834939 0.82228905 0.63699682 0.3883121  0.13545227 0.24913564\n",
      "  0.06415658 0.70852753]]\n"
     ]
    }
   ],
   "source": [
    "H = get_initial_weight()\n",
    "\n",
    "print(H)"
   ]
  },
  {
   "cell_type": "code",
   "execution_count": 5,
   "id": "f5a3aac8-f73e-4864-9256-2fc216ceb25f",
   "metadata": {},
   "outputs": [
    {
     "name": "stdout",
     "output_type": "stream",
     "text": [
      "[[1. 1. 1. 1. 1. 1. 1. 1.]\n",
      " [1. 1. 1. 1. 1. 1. 1. 1.]\n",
      " [1. 1. 1. 1. 1. 1. 1. 1.]\n",
      " [1. 1. 1. 1. 1. 1. 1. 1.]]\n"
     ]
    }
   ],
   "source": [
    "b = np.ones(A_s.shape)\n",
    "\n",
    "print(b)"
   ]
  },
  {
   "cell_type": "markdown",
   "id": "df63e379-cd37-4d8c-bb4f-ffb52ed7504b",
   "metadata": {},
   "source": [
    "$a_{s, i}$"
   ]
  },
  {
   "cell_type": "code",
   "execution_count": 6,
   "id": "4ff0948c-e0b5-4025-9c29-c74d64215b56",
   "metadata": {},
   "outputs": [
    {
     "name": "stdout",
     "output_type": "stream",
     "text": [
      "(4, 8)\n"
     ]
    }
   ],
   "source": [
    "a_s = np.zeros(A_s.shape)\n",
    "\n",
    "for i in range(len(A_s)):\n",
    "    a_s[i] = np.matmul(np.transpose(A_s[i]), H[i]) + b[i]\n",
    "    \n",
    "\n",
    "print(a_s.shape)"
   ]
  },
  {
   "cell_type": "code",
   "execution_count": 8,
   "id": "dff74f69-66ee-4b4c-ac56-3bd46ec7d4ad",
   "metadata": {},
   "outputs": [
    {
     "name": "stdout",
     "output_type": "stream",
     "text": [
      "[[0.72101836 0.88361372 0.61661013 0.76404502 0.58243191 0.79675142\n",
      "  0.78801125 0.58148481]\n",
      " [0.83354906 0.6635125  0.82362479 0.64763509 0.68710433 0.70914534\n",
      "  0.85124532 0.72907548]\n",
      " [0.6834866  0.77443437 0.81497029 0.68682492 0.57684408 0.69863667\n",
      "  0.76166931 0.66302222]\n",
      " [0.6901783  0.70656119 0.60302404 0.70112155 0.66779731 0.65513454\n",
      "  0.56191464 0.56821594]]\n"
     ]
    }
   ],
   "source": [
    "z_s = np.ones(A_s.shape)\n",
    "\n",
    "\n",
    "for i in range(len(a_s)):\n",
    "    z_s[i] = activation_function_on_vector(sigmoid, (W_z[i] * a_s[i]) + (U_z[i] * A_s[i]))\n",
    "\n",
    "print(z_s)"
   ]
  },
  {
   "cell_type": "code",
   "execution_count": null,
   "id": "32a72253-53de-4a81-abee-c93b02687fc0",
   "metadata": {},
   "outputs": [],
   "source": [
    "r_s = np.ones(A_s.shape)\n",
    "\n",
    "for i in range(len(a_s)):\n",
    "    r_s[i] = activation_function_on_vector(sigmoid, (W_r[i] * a_s[i]) + (U_r[i] * A_s[i]))\n",
    "\n",
    "print(r_s)"
   ]
  },
  {
   "cell_type": "code",
   "execution_count": 13,
   "id": "66fecf92-df8b-411c-aa79-f8c4b8208888",
   "metadata": {},
   "outputs": [
    {
     "name": "stdout",
     "output_type": "stream",
     "text": [
      "[[0.46440187 0.31216955]\n",
      " [0.74332004 0.25332069]\n",
      " [0.49806221 0.98138065]]\n",
      "[[0.46440187 0.31216955]\n",
      " [0.74332004 0.25332069]\n",
      " [0.49806221 0.98138065]]\n"
     ]
    }
   ],
   "source": [
    "v_hidden = np.ones(A_s.shape)\n",
    "\n",
    "for i in range(len(A_s)):\n",
    "    v_hidden[i] = activation_function_on_vector(tahn, W_o * )"
   ]
  }
 ],
 "metadata": {
  "kernelspec": {
   "display_name": "Python 3 (ipykernel)",
   "language": "python",
   "name": "python3"
  },
  "language_info": {
   "codemirror_mode": {
    "name": "ipython",
    "version": 3
   },
   "file_extension": ".py",
   "mimetype": "text/x-python",
   "name": "python",
   "nbconvert_exporter": "python",
   "pygments_lexer": "ipython3",
   "version": "3.8.12"
  }
 },
 "nbformat": 4,
 "nbformat_minor": 5
}
