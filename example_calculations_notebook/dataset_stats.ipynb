{
 "cells": [
  {
   "cell_type": "markdown",
   "metadata": {},
   "source": [
    "# Dataset stats, checking"
   ]
  },
  {
   "cell_type": "code",
   "execution_count": 29,
   "metadata": {},
   "outputs": [],
   "source": [
    "import numpy as np\n",
    "from helper_methods import *\n",
    "from itertools import chain\n",
    "\n",
    "import pickle\n",
    "import torch\n",
    "from torch import nn\n",
    "from torch.nn import Module, Parameter\n",
    "import torch.nn.functional as F"
   ]
  },
  {
   "cell_type": "code",
   "execution_count": 88,
   "metadata": {},
   "outputs": [],
   "source": [
    "def compute_stats(train, test):\n",
    "    ses_tr_len = [len(ses)+1 for ses in train[0]]\n",
    "    ses_te_len = [len(ses)+1 for ses in test[0]]\n",
    "    ses_len = ses_tr_len + ses_te_len\n",
    "    avg_len = sum(ses_len)/len(ses_len)\n",
    "    unique = set(chain.from_iterable(train[0] + test[0]))\n",
    "    return sum(ses_len), len(ses_tr_len), len(ses_te_len), len(unique), avg_len\n",
    "\n",
    "def print_stats(ses_len, ses_tr_len, ses_te_len, unique, avg_len):    \n",
    "    print(f\"|| DIGINETICA STATS || \\\n",
    "          \\n# of clicks: {ses_len} \\\n",
    "          \\n# of training sessions: {ses_tr_len} \\\n",
    "          \\n# of test sessions: {ses_te_len} \\\n",
    "          \\n# of items: {unique} \\\n",
    "          \\n# Average length: {avg_len}\")"
   ]
  },
  {
   "cell_type": "code",
   "execution_count": 40,
   "metadata": {},
   "outputs": [],
   "source": [
    "digi_train = pickle.load(open('../datasets/diginetica/train.txt', 'rb'))\n",
    "digi_test = pickle.load(open('../datasets/diginetica/test.txt', 'rb'))"
   ]
  },
  {
   "cell_type": "code",
   "execution_count": 89,
   "metadata": {},
   "outputs": [
    {
     "name": "stdout",
     "output_type": "stream",
     "text": [
      "|| DIGINETICA STATS ||           \n",
      "# of clicks: 3466487           \n",
      "# of training sessions: 612858           \n",
      "# of test sessions: 51751           \n",
      "# of items: 39028           \n",
      "# Average length: 5.215829156692131\n"
     ]
    }
   ],
   "source": [
    "print_stats(*compute_stats(digi_train,digi_test))"
   ]
  },
  {
   "cell_type": "code",
   "execution_count": 66,
   "metadata": {},
   "outputs": [],
   "source": [
    "yoochoose1_64_train = pickle.load(open('../datasets/yoochoose1_64/train.txt', 'rb'))\n",
    "yoochoose1_64_test = pickle.load(open('../datasets/yoochoose1_64/test.txt', 'rb'))"
   ]
  },
  {
   "cell_type": "code",
   "execution_count": 90,
   "metadata": {},
   "outputs": [
    {
     "name": "stdout",
     "output_type": "stream",
     "text": [
      "|| DIGINETICA STATS ||           \n",
      "# of clicks: 2621822           \n",
      "# of training sessions: 369859           \n",
      "# of test sessions: 55898           \n",
      "# of items: 16766           \n",
      "# Average length: 6.158024412986751\n"
     ]
    }
   ],
   "source": [
    "    print_stats(*compute_stats(yoochoose1_64_train, yoochoose1_64_test))"
   ]
  },
  {
   "cell_type": "code",
   "execution_count": 71,
   "metadata": {},
   "outputs": [],
   "source": [
    "yoochoose1_4_train = pickle.load(open('../datasets/yoochoose1_4/train.txt', 'rb'))\n",
    "yoochoose1_4_test = pickle.load(open('../datasets/yoochoose1_4/test.txt', 'rb'))"
   ]
  },
  {
   "cell_type": "code",
   "execution_count": 91,
   "metadata": {},
   "outputs": [
    {
     "name": "stdout",
     "output_type": "stream",
     "text": [
      "|| DIGINETICA STATS ||           \n",
      "# of clicks: 34097026           \n",
      "# of training sessions: 5917745           \n",
      "# of test sessions: 55898           \n",
      "# of items: 29618           \n",
      "# Average length: 5.7079115708789425\n"
     ]
    }
   ],
   "source": [
    "print_stats(*compute_stats(yoochoose1_4_train, yoochoose1_4_test))"
   ]
  },
  {
   "cell_type": "code",
   "execution_count": null,
   "metadata": {},
   "outputs": [],
   "source": []
  }
 ],
 "metadata": {
  "kernelspec": {
   "display_name": "BiksUp",
   "language": "python",
   "name": "biksup"
  },
  "language_info": {
   "codemirror_mode": {
    "name": "ipython",
    "version": 3
   },
   "file_extension": ".py",
   "mimetype": "text/x-python",
   "name": "python",
   "nbconvert_exporter": "python",
   "pygments_lexer": "ipython3",
   "version": "3.9.0"
  }
 },
 "nbformat": 4,
 "nbformat_minor": 4
}
